{
 "cells": [
  {
   "cell_type": "markdown",
   "metadata": {},
   "source": [
    "# Optimización\n",
    "\n",
    "En general, la optimización es el proceso de encontrar y seleccionar el elemento óptimo\n",
    "de un conjunto de candidatos factibles. En la optimización matemática, este problema generalmente se formula como determinar el valor extremo de una función de un dominio dado.\n",
    "\n",
    "Un valor extremo, o un valor óptimo, puede referirse al mínimo o al máximo de la función, dependiendo de la aplicación y el específico problema.\n",
    "\n",
    "La optimización está estrechamente relacionada con la resolución de ecuaciones porque, con un valor óptimo de una función, es derivada, o gradiente en el caso de multivariante, es cero.\n",
    "\n",
    "un método para resolver problemas de optimización es resolver por los ceros de la derivada o gradiente y prueba los candidatos resultantes para la optimalidad. Sin embargo, este enfoque no siempre es factible y, a menudo, se requiere tomar otros enfoques numéricos\n",
    "\n",
    "Aquí restringimos nuestra atención a la optimización matemática de las funciones de valores reales, con uno o más variables dependientes."
   ]
  },
  {
   "cell_type": "code",
   "execution_count": null,
   "metadata": {},
   "outputs": [],
   "source": []
  }
 ],
 "metadata": {
  "hide_input": false,
  "kernelspec": {
   "display_name": "Python 3",
   "language": "python",
   "name": "python3"
  },
  "language_info": {
   "codemirror_mode": {
    "name": "ipython",
    "version": 3
   },
   "file_extension": ".py",
   "mimetype": "text/x-python",
   "name": "python",
   "nbconvert_exporter": "python",
   "pygments_lexer": "ipython3",
   "version": "3.5.2"
  },
  "toc": {
   "nav_menu": {},
   "number_sections": true,
   "sideBar": true,
   "skip_h1_title": false,
   "toc_cell": false,
   "toc_position": {},
   "toc_section_display": "block",
   "toc_window_display": false
  },
  "varInspector": {
   "cols": {
    "lenName": 16,
    "lenType": 16,
    "lenVar": 40
   },
   "kernels_config": {
    "python": {
     "delete_cmd_postfix": "",
     "delete_cmd_prefix": "del ",
     "library": "var_list.py",
     "varRefreshCmd": "print(var_dic_list())"
    },
    "r": {
     "delete_cmd_postfix": ") ",
     "delete_cmd_prefix": "rm(",
     "library": "var_list.r",
     "varRefreshCmd": "cat(var_dic_list()) "
    }
   },
   "types_to_exclude": [
    "module",
    "function",
    "builtin_function_or_method",
    "instance",
    "_Feature"
   ],
   "window_display": false
  }
 },
 "nbformat": 4,
 "nbformat_minor": 2
}
